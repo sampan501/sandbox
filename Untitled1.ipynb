{
 "cells": [
  {
   "cell_type": "code",
   "execution_count": 1,
   "metadata": {},
   "outputs": [],
   "source": [
    "import matplotlib.pyplot as plt\n",
    "import seaborn as sns\n",
    "import pandas as pd\n",
    "sns.set_style(\"whitegrid\")"
   ]
  },
  {
   "cell_type": "code",
   "execution_count": 2,
   "metadata": {},
   "outputs": [
    {
     "data": {
      "text/html": [
       "<div>\n",
       "<style scoped>\n",
       "    .dataframe tbody tr th:only-of-type {\n",
       "        vertical-align: middle;\n",
       "    }\n",
       "\n",
       "    .dataframe tbody tr th {\n",
       "        vertical-align: top;\n",
       "    }\n",
       "\n",
       "    .dataframe thead th {\n",
       "        text-align: right;\n",
       "    }\n",
       "</style>\n",
       "<table border=\"1\" class=\"dataframe\">\n",
       "  <thead>\n",
       "    <tr style=\"text-align: right;\">\n",
       "      <th></th>\n",
       "      <th>avg_o2</th>\n",
       "      <th>avg_temp</th>\n",
       "      <th>CCI</th>\n",
       "      <th>group</th>\n",
       "    </tr>\n",
       "  </thead>\n",
       "  <tbody>\n",
       "    <tr>\n",
       "      <th>0</th>\n",
       "      <td>95.250000</td>\n",
       "      <td>98.100000</td>\n",
       "      <td>1</td>\n",
       "      <td>All Other</td>\n",
       "    </tr>\n",
       "    <tr>\n",
       "      <th>1</th>\n",
       "      <td>94.000000</td>\n",
       "      <td>98.350000</td>\n",
       "      <td>3</td>\n",
       "      <td>All Other</td>\n",
       "    </tr>\n",
       "    <tr>\n",
       "      <th>2</th>\n",
       "      <td>93.250000</td>\n",
       "      <td>97.840000</td>\n",
       "      <td>4</td>\n",
       "      <td>All Other</td>\n",
       "    </tr>\n",
       "    <tr>\n",
       "      <th>3</th>\n",
       "      <td>NaN</td>\n",
       "      <td>NaN</td>\n",
       "      <td>12</td>\n",
       "      <td>All Other</td>\n",
       "    </tr>\n",
       "    <tr>\n",
       "      <th>4</th>\n",
       "      <td>96.666667</td>\n",
       "      <td>97.766667</td>\n",
       "      <td>12</td>\n",
       "      <td>All Other</td>\n",
       "    </tr>\n",
       "    <tr>\n",
       "      <th>...</th>\n",
       "      <td>...</td>\n",
       "      <td>...</td>\n",
       "      <td>...</td>\n",
       "      <td>...</td>\n",
       "    </tr>\n",
       "    <tr>\n",
       "      <th>14968</th>\n",
       "      <td>96.000000</td>\n",
       "      <td>97.400000</td>\n",
       "      <td>2</td>\n",
       "      <td>COVID</td>\n",
       "    </tr>\n",
       "    <tr>\n",
       "      <th>14969</th>\n",
       "      <td>100.000000</td>\n",
       "      <td>98.700000</td>\n",
       "      <td>2</td>\n",
       "      <td>COVID</td>\n",
       "    </tr>\n",
       "    <tr>\n",
       "      <th>14970</th>\n",
       "      <td>97.000000</td>\n",
       "      <td>97.400000</td>\n",
       "      <td>2</td>\n",
       "      <td>All Other</td>\n",
       "    </tr>\n",
       "    <tr>\n",
       "      <th>14971</th>\n",
       "      <td>96.000000</td>\n",
       "      <td>98.500000</td>\n",
       "      <td>4</td>\n",
       "      <td>COVID</td>\n",
       "    </tr>\n",
       "    <tr>\n",
       "      <th>14972</th>\n",
       "      <td>NaN</td>\n",
       "      <td>NaN</td>\n",
       "      <td>1</td>\n",
       "      <td>All Other</td>\n",
       "    </tr>\n",
       "  </tbody>\n",
       "</table>\n",
       "<p>14973 rows × 4 columns</p>\n",
       "</div>"
      ],
      "text/plain": [
       "           avg_o2   avg_temp  CCI      group\n",
       "0       95.250000  98.100000    1  All Other\n",
       "1       94.000000  98.350000    3  All Other\n",
       "2       93.250000  97.840000    4  All Other\n",
       "3             NaN        NaN   12  All Other\n",
       "4       96.666667  97.766667   12  All Other\n",
       "...           ...        ...  ...        ...\n",
       "14968   96.000000  97.400000    2      COVID\n",
       "14969  100.000000  98.700000    2      COVID\n",
       "14970   97.000000  97.400000    2  All Other\n",
       "14971   96.000000  98.500000    4      COVID\n",
       "14972         NaN        NaN    1  All Other\n",
       "\n",
       "[14973 rows x 4 columns]"
      ]
     },
     "execution_count": 2,
     "metadata": {},
     "output_type": "execute_result"
    }
   ],
   "source": [
    "FILE = \"covid_broad_vitals.csv\"\n",
    "df = pd.read_csv(FILE)\n",
    "df"
   ]
  },
  {
   "cell_type": "code",
   "execution_count": 3,
   "metadata": {},
   "outputs": [
    {
     "data": {
      "text/html": [
       "<div>\n",
       "<style scoped>\n",
       "    .dataframe tbody tr th:only-of-type {\n",
       "        vertical-align: middle;\n",
       "    }\n",
       "\n",
       "    .dataframe tbody tr th {\n",
       "        vertical-align: top;\n",
       "    }\n",
       "\n",
       "    .dataframe thead th {\n",
       "        text-align: right;\n",
       "    }\n",
       "</style>\n",
       "<table border=\"1\" class=\"dataframe\">\n",
       "  <thead>\n",
       "    <tr style=\"text-align: right;\">\n",
       "      <th></th>\n",
       "      <th>index</th>\n",
       "      <th>group</th>\n",
       "      <th>data</th>\n",
       "    </tr>\n",
       "  </thead>\n",
       "  <tbody>\n",
       "    <tr>\n",
       "      <th>0</th>\n",
       "      <td>avg_o2</td>\n",
       "      <td>All Other</td>\n",
       "      <td>95.250000</td>\n",
       "    </tr>\n",
       "    <tr>\n",
       "      <th>1</th>\n",
       "      <td>avg_o2</td>\n",
       "      <td>All Other</td>\n",
       "      <td>94.000000</td>\n",
       "    </tr>\n",
       "    <tr>\n",
       "      <th>2</th>\n",
       "      <td>avg_o2</td>\n",
       "      <td>All Other</td>\n",
       "      <td>93.250000</td>\n",
       "    </tr>\n",
       "    <tr>\n",
       "      <th>3</th>\n",
       "      <td>avg_o2</td>\n",
       "      <td>All Other</td>\n",
       "      <td>NaN</td>\n",
       "    </tr>\n",
       "    <tr>\n",
       "      <th>4</th>\n",
       "      <td>avg_o2</td>\n",
       "      <td>All Other</td>\n",
       "      <td>96.666667</td>\n",
       "    </tr>\n",
       "    <tr>\n",
       "      <th>...</th>\n",
       "      <td>...</td>\n",
       "      <td>...</td>\n",
       "      <td>...</td>\n",
       "    </tr>\n",
       "    <tr>\n",
       "      <th>29941</th>\n",
       "      <td>avg_temp</td>\n",
       "      <td>COVID</td>\n",
       "      <td>97.400000</td>\n",
       "    </tr>\n",
       "    <tr>\n",
       "      <th>29942</th>\n",
       "      <td>avg_temp</td>\n",
       "      <td>COVID</td>\n",
       "      <td>98.700000</td>\n",
       "    </tr>\n",
       "    <tr>\n",
       "      <th>29943</th>\n",
       "      <td>avg_temp</td>\n",
       "      <td>All Other</td>\n",
       "      <td>97.400000</td>\n",
       "    </tr>\n",
       "    <tr>\n",
       "      <th>29944</th>\n",
       "      <td>avg_temp</td>\n",
       "      <td>COVID</td>\n",
       "      <td>98.500000</td>\n",
       "    </tr>\n",
       "    <tr>\n",
       "      <th>29945</th>\n",
       "      <td>avg_temp</td>\n",
       "      <td>All Other</td>\n",
       "      <td>NaN</td>\n",
       "    </tr>\n",
       "  </tbody>\n",
       "</table>\n",
       "<p>29946 rows × 3 columns</p>\n",
       "</div>"
      ],
      "text/plain": [
       "          index      group       data\n",
       "0        avg_o2  All Other  95.250000\n",
       "1        avg_o2  All Other  94.000000\n",
       "2        avg_o2  All Other  93.250000\n",
       "3        avg_o2  All Other        NaN\n",
       "4        avg_o2  All Other  96.666667\n",
       "...         ...        ...        ...\n",
       "29941  avg_temp      COVID  97.400000\n",
       "29942  avg_temp      COVID  98.700000\n",
       "29943  avg_temp  All Other  97.400000\n",
       "29944  avg_temp      COVID  98.500000\n",
       "29945  avg_temp  All Other        NaN\n",
       "\n",
       "[29946 rows x 3 columns]"
      ]
     },
     "execution_count": 3,
     "metadata": {},
     "output_type": "execute_result"
    }
   ],
   "source": [
    "avg_o2 = df[\"avg_o2\"].values.tolist()\n",
    "avg_temp = df[\"avg_temp\"].values.tolist()\n",
    "group = df[\"group\"].values.tolist() + df[\"group\"].values.tolist()\n",
    "dataf = {\n",
    "    \"data\": avg_o2 + avg_temp,\n",
    "    \"index\": [\"avg_o2\"] * len(avg_o2) + [\"avg_temp\"] * len(avg_temp),\n",
    "    \"group\": group\n",
    "}\n",
    "newdf = pd.DataFrame(dataf, columns=[\"index\", \"group\", \"data\"])\n",
    "newdf"
   ]
  },
  {
   "cell_type": "code",
   "execution_count": 4,
   "metadata": {},
   "outputs": [
    {
     "data": {
      "image/png": "[encoded data removed]",
      "text/plain": [
       "<Figure size 432x288 with 1 Axes>"
      ]
     },
     "metadata": {},
     "output_type": "display_data"
    }
   ],
   "source": [
    "sns.stripplot(x=\"index\", y=\"data\", data=newdf, hue=\"group\", dodge=True, size=3, alpha=0.3, jitter=0.36)\n",
    "plt.savefig('output.pdf', bbox_inches='tight')\n",
    "plt.show()"
   ]
  },
  {
   "cell_type": "code",
   "execution_count": 5,
   "metadata": {},
   "outputs": [],
   "source": [
    "import numpy as np\n",
    "\n",
    "group = df[\"group\"].values.tolist()\n",
    "avgo2 = df[\"avg_o2\"].values.tolist()\n",
    "avgtemp = df[\"avg_temp\"].values.tolist()\n",
    "\n",
    "allother_avgo2 = []\n",
    "covid_avgo2 = []\n",
    "allother_avgtemp = []\n",
    "covid_avgtemp = []\n",
    "for i in range(len(group)):\n",
    "    if group[i] == \"All Other\":\n",
    "        allother_avgo2.append(avgo2[i])\n",
    "        allother_avgtemp.append(avgtemp[i])\n",
    "    else:\n",
    "        covid_avgo2.append(avgo2[i])\n",
    "        covid_avgtemp.append(avgtemp[i])\n",
    "\n",
    "allother_avgo2 = np.array([i for i in allother_avgo2 if str(i) != 'nan'])\n",
    "covid_avgo2 = np.array([i for i in covid_avgo2 if str(i) != 'nan'])\n",
    "allother_avgtemp = np.array([i for i in allother_avgtemp if str(i) != 'nan'])\n",
    "covid_avgtemp = np.array([i for i in covid_avgtemp if str(i) != 'nan'])"
   ]
  },
  {
   "cell_type": "code",
   "execution_count": 6,
   "metadata": {},
   "outputs": [
    {
     "data": {
      "text/plain": [
       "(9.72301938961806e-09, 0.0)"
      ]
     },
     "execution_count": 6,
     "metadata": {},
     "output_type": "execute_result"
    }
   ],
   "source": [
    "from hyppo.ksample import KSample\n",
    "\n",
    "_, avgo2_pvalue = KSample(\"dcorr\").test(allother_avgo2, covid_avgo2)\n",
    "_, avgtemp_pvalue = KSample(\"dcorr\").test(allother_avgtemp, covid_avgtemp)\n",
    "avgo2_pvalue, avgtemp_pvalue"
   ]
  },
  {
   "cell_type": "code",
   "execution_count": 7,
   "metadata": {},
   "outputs": [
    {
     "data": {
      "text/plain": [
       "((10964,), (11140,))"
      ]
     },
     "execution_count": 7,
     "metadata": {},
     "output_type": "execute_result"
    }
   ],
   "source": [
    "allother_avgo2.shape, allother_avgtemp.shape"
   ]
  },
  {
   "cell_type": "code",
   "execution_count": 8,
   "metadata": {},
   "outputs": [
    {
     "data": {
      "text/html": [
       "<div>\n",
       "<style scoped>\n",
       "    .dataframe tbody tr th:only-of-type {\n",
       "        vertical-align: middle;\n",
       "    }\n",
       "\n",
       "    .dataframe tbody tr th {\n",
       "        vertical-align: top;\n",
       "    }\n",
       "\n",
       "    .dataframe thead th {\n",
       "        text-align: right;\n",
       "    }\n",
       "</style>\n",
       "<table border=\"1\" class=\"dataframe\">\n",
       "  <thead>\n",
       "    <tr style=\"text-align: right;\">\n",
       "      <th></th>\n",
       "      <th>avg_o2</th>\n",
       "      <th>avg_temp</th>\n",
       "      <th>CCI</th>\n",
       "      <th>group</th>\n",
       "    </tr>\n",
       "  </thead>\n",
       "  <tbody>\n",
       "    <tr>\n",
       "      <th>0</th>\n",
       "      <td>95.250000</td>\n",
       "      <td>98.100000</td>\n",
       "      <td>1</td>\n",
       "      <td>All Other</td>\n",
       "    </tr>\n",
       "    <tr>\n",
       "      <th>1</th>\n",
       "      <td>94.000000</td>\n",
       "      <td>98.350000</td>\n",
       "      <td>3</td>\n",
       "      <td>All Other</td>\n",
       "    </tr>\n",
       "    <tr>\n",
       "      <th>2</th>\n",
       "      <td>93.250000</td>\n",
       "      <td>97.840000</td>\n",
       "      <td>4</td>\n",
       "      <td>All Other</td>\n",
       "    </tr>\n",
       "    <tr>\n",
       "      <th>4</th>\n",
       "      <td>96.666667</td>\n",
       "      <td>97.766667</td>\n",
       "      <td>12</td>\n",
       "      <td>All Other</td>\n",
       "    </tr>\n",
       "    <tr>\n",
       "      <th>6</th>\n",
       "      <td>94.800000</td>\n",
       "      <td>98.225000</td>\n",
       "      <td>2</td>\n",
       "      <td>All Other</td>\n",
       "    </tr>\n",
       "    <tr>\n",
       "      <th>...</th>\n",
       "      <td>...</td>\n",
       "      <td>...</td>\n",
       "      <td>...</td>\n",
       "      <td>...</td>\n",
       "    </tr>\n",
       "    <tr>\n",
       "      <th>14967</th>\n",
       "      <td>97.250000</td>\n",
       "      <td>100.600000</td>\n",
       "      <td>2</td>\n",
       "      <td>COVID</td>\n",
       "    </tr>\n",
       "    <tr>\n",
       "      <th>14968</th>\n",
       "      <td>96.000000</td>\n",
       "      <td>97.400000</td>\n",
       "      <td>2</td>\n",
       "      <td>COVID</td>\n",
       "    </tr>\n",
       "    <tr>\n",
       "      <th>14969</th>\n",
       "      <td>100.000000</td>\n",
       "      <td>98.700000</td>\n",
       "      <td>2</td>\n",
       "      <td>COVID</td>\n",
       "    </tr>\n",
       "    <tr>\n",
       "      <th>14970</th>\n",
       "      <td>97.000000</td>\n",
       "      <td>97.400000</td>\n",
       "      <td>2</td>\n",
       "      <td>All Other</td>\n",
       "    </tr>\n",
       "    <tr>\n",
       "      <th>14971</th>\n",
       "      <td>96.000000</td>\n",
       "      <td>98.500000</td>\n",
       "      <td>4</td>\n",
       "      <td>COVID</td>\n",
       "    </tr>\n",
       "  </tbody>\n",
       "</table>\n",
       "<p>13633 rows × 4 columns</p>\n",
       "</div>"
      ],
      "text/plain": [
       "           avg_o2    avg_temp  CCI      group\n",
       "0       95.250000   98.100000    1  All Other\n",
       "1       94.000000   98.350000    3  All Other\n",
       "2       93.250000   97.840000    4  All Other\n",
       "4       96.666667   97.766667   12  All Other\n",
       "6       94.800000   98.225000    2  All Other\n",
       "...           ...         ...  ...        ...\n",
       "14967   97.250000  100.600000    2      COVID\n",
       "14968   96.000000   97.400000    2      COVID\n",
       "14969  100.000000   98.700000    2      COVID\n",
       "14970   97.000000   97.400000    2  All Other\n",
       "14971   96.000000   98.500000    4      COVID\n",
       "\n",
       "[13633 rows x 4 columns]"
      ]
     },
     "execution_count": 8,
     "metadata": {},
     "output_type": "execute_result"
    }
   ],
   "source": [
    "df2 = df.dropna()\n",
    "df2"
   ]
  },
  {
   "cell_type": "code",
   "execution_count": 9,
   "metadata": {},
   "outputs": [
    {
     "data": {
      "text/plain": [
       "((13633, 2), (13633,))"
      ]
     },
     "execution_count": 9,
     "metadata": {},
     "output_type": "execute_result"
    }
   ],
   "source": [
    "group = df2[\"group\"].values.tolist()\n",
    "avgo2 = df2[\"avg_o2\"].values.tolist()\n",
    "avgtemp = df2[\"avg_temp\"].values.tolist()\n",
    "\n",
    "x = np.hstack([np.array(avgo2).reshape(-1, 1), np.array(avgtemp).reshape(-1, 1)])\n",
    "\n",
    "y = []\n",
    "for i in range(len(group)):\n",
    "    if group[i] == \"COVID\":\n",
    "        y.append(1)\n",
    "    else:\n",
    "        y.append(0)\n",
    "\n",
    "y = np.array(y)\n",
    "x.shape, y.shape"
   ]
  },
  {
   "cell_type": "code",
   "execution_count": 22,
   "metadata": {},
   "outputs": [
    {
     "name": "stdout",
     "output_type": "stream",
     "text": [
      "0.22727272727272727\n",
      "0.23240469208211142\n",
      "0.23826979472140764\n",
      "0.23184152604548788\n",
      "0.2223037417461482\n",
      "0.22670579603815114\n",
      "0.22964049889948643\n",
      "0.22964049889948643\n",
      "0.22670579603815114\n",
      "0.21129860601614087\n"
     ]
    }
   ],
   "source": [
    "from sklearn.ensemble import RandomForestClassifier\n",
    "from sklearn.model_selection import StratifiedKFold, cross_val_predict\n",
    "\n",
    "rf = RandomForestClassifier()\n",
    "kf = StratifiedKFold(n_splits=10)\n",
    "\n",
    "for train, test in kf.split(x, y):\n",
    "    rf.fit(x[train], y[train])\n",
    "    y_hat = rf.predict(x[test])\n",
    "    print(np.sum(y_hat != y[test]) / np.size(test))"
   ]
  },
  {
   "cell_type": "code",
   "execution_count": 27,
   "metadata": {},
   "outputs": [
    {
     "name": "stdout",
     "output_type": "stream",
     "text": [
      "0.7644470519213846\n"
     ]
    }
   ],
   "source": [
    "from sklearn.model_selection import train_test_split\n",
    "\n",
    "x_train, x_test, y_train, y_test = train_test_split(x, y)\n",
    "rf.fit(x_train, y_train)\n",
    "y_hat = rf.predict(x_test)\n",
    "print(1 - np.sum(y_hat != y_test) / np.size(y_test))"
   ]
  },
  {
   "cell_type": "code",
   "execution_count": 12,
   "metadata": {},
   "outputs": [
    {
     "data": {
      "text/plain": [
       "13633"
      ]
     },
     "execution_count": 12,
     "metadata": {},
     "output_type": "execute_result"
    }
   ],
   "source": [
    "y_hat = cross_val_predict(rf, x, y, cv=10)\n",
    "y_hat.size"
   ]
  },
  {
   "cell_type": "code",
   "execution_count": 13,
   "metadata": {},
   "outputs": [
    {
     "name": "stdout",
     "output_type": "stream",
     "text": [
      "0.0007336757153338225\n"
     ]
    },
    {
     "name": "stderr",
     "output_type": "stream",
     "text": [
      "<ipython-input-13-a2d6c1aaebfe>:1: DeprecationWarning: elementwise comparison failed; this will raise an error in the future.\n",
      "  print(np.sum(y_hat != y[test]) / np.size(test))\n"
     ]
    }
   ],
   "source": [
    "print(np.sum(y_hat != y[test]) / np.size(test))"
   ]
  },
  {
   "cell_type": "code",
   "execution_count": 15,
   "metadata": {},
   "outputs": [
    {
     "name": "stdout",
     "output_type": "stream",
     "text": [
      "Accuracy: 0.77298 (+/- 0.01715)\n",
      "Accuracy: 0.77078 (+/- 0.01574)\n",
      "Accuracy: 0.77012 (+/- 0.01571)\n",
      "Accuracy: 0.77085 (+/- 0.01659)\n",
      "Accuracy: 0.77202 (+/- 0.02039)\n",
      "Accuracy: 0.77107 (+/- 0.01696)\n",
      "Accuracy: 0.77129 (+/- 0.01604)\n",
      "Accuracy: 0.77063 (+/- 0.01897)\n",
      "Accuracy: 0.77166 (+/- 0.01761)\n",
      "Accuracy: 0.77327 (+/- 0.01708)\n"
     ]
    }
   ],
   "source": [
    "from sklearn.model_selection import cross_val_score\n",
    "\n",
    "for i in range(10):\n",
    "    scores = cross_val_score(rf, x, y, cv=10)\n",
    "    print(\"Accuracy: %0.5f (+/- %0.5f)\" % (scores.mean(), scores.std() * 2))"
   ]
  },
  {
   "cell_type": "code",
   "execution_count": 20,
   "metadata": {},
   "outputs": [
    {
     "data": {
      "text/plain": [
       "0.7982835766155651"
      ]
     },
     "execution_count": 20,
     "metadata": {},
     "output_type": "execute_result"
    }
   ],
   "source": [
    "1 - np.sum(y) / np.size(y)"
   ]
  },
  {
   "cell_type": "code",
   "execution_count": null,
   "metadata": {},
   "outputs": [],
   "source": []
  }
 ],
 "metadata": {
  "kernelspec": {
   "display_name": "Python 3",
   "language": "python",
   "name": "python3"
  },
  "language_info": {
   "codemirror_mode": {
    "name": "ipython",
    "version": 3
   },
   "file_extension": ".py",
   "mimetype": "text/x-python",
   "name": "python",
   "nbconvert_exporter": "python",
   "pygments_lexer": "ipython3",
   "version": "3.8.2"
  }
 },
 "nbformat": 4,
 "nbformat_minor": 4
}
