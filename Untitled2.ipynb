{
 "cells": [
  {
   "cell_type": "code",
   "execution_count": null,
   "metadata": {},
   "outputs": [],
   "source": [
    "from hyppo.sims import linear, multimodal_independence\n",
    "from hyppo.random_forest import MGCRF\n",
    "\n",
    "import numpy as np\n",
    "import matplotlib.pyplot as plt"
   ]
  },
  {
   "cell_type": "code",
   "execution_count": null,
   "metadata": {},
   "outputs": [],
   "source": [
    "def plot_meanstd():\n",
    "    fig, ax = plt.subplots(nrows=2, ncols=2, figsize=(14,12))\n",
    "    \n",
    "    sims = [linear, multimodal_independence]\n",
    "    \n",
    "    ns = np.arange(50, 1001, 50)\n",
    "    for i, row in enumerate(ax):\n",
    "        for j, col in enumerate(row):\n",
    "            for sim in sims:\n",
    "                if j == 0:\n",
    "                    stats = np.array([MGCRF()._statistic(*sim(int(n), 1)) for n in ns for _ in range(100)])\n",
    "                    means = np.mean(stats, axis=0)\n",
    "                    stds = np.std(stats, axis=0)\n",
    "                    \n",
    "                    col.errorbar(ns, means, yerr=stds)\n",
    "\n",
    "#                     col.set_xlim(-5, 5)\n",
    "#                     col.set_ylim(-5, 5)\n",
    "                    col.set_xticks([])\n",
    "                    col.set_yticks([])\n",
    "                    col.set_title(sim_title[j])\n",
    "#                     count += 1\n",
    "                else:\n",
    "                    x, y = sim(100, 1)\n",
    "                    col.plot(x, y)\n",
    "    \n",
    "    fig.text(0.5, 0.08, 'Dimension', ha='center')\n",
    "    fig.text(0.08, 0.5, 'Absolute Statistical Power', va='center', rotation='vertical')\n",
    "    leg = plt.legend(bbox_to_anchor=(0.5, 0.08), bbox_transform=plt.gcf().transFigure,\n",
    "                     ncol=5, loc='upper center')\n",
    "    leg.get_frame().set_linewidth(0.0)\n",
    "    for legobj in leg.legendHandles:\n",
    "        legobj.set_linewidth(5.0)\n",
    "    plt.subplots_adjust(hspace=.50)"
   ]
  },
  {
   "cell_type": "code",
   "execution_count": null,
   "metadata": {},
   "outputs": [],
   "source": [
    "plot_meanstd()"
   ]
  },
  {
   "cell_type": "code",
   "execution_count": null,
   "metadata": {},
   "outputs": [],
   "source": [
    "ns = np.arange(50, 1001, 50)\n",
    "ns"
   ]
  },
  {
   "cell_type": "code",
   "execution_count": null,
   "metadata": {},
   "outputs": [],
   "source": [
    "for n in ns:\n",
    "    print(type(n))"
   ]
  },
  {
   "cell_type": "code",
   "execution_count": null,
   "metadata": {},
   "outputs": [],
   "source": [
    "fig, ax = plt.subplots(nrows=2, ncols=2, figsize=(14,12))\n",
    "\n",
    "sims = [linear, multimodal_independence]\n",
    "\n",
    "ns = np.arange(50, 1001, 50)\n",
    "for i, row in enumerate(ax):\n",
    "    for j, col in enumerate(row):\n",
    "        for sim in sims:\n",
    "            if j == 0:\n",
    "                stats = np.array([MGCRF()._statistic(*sim(int(n), 1)) for _ in range(100) for n in ns])\n",
    "                means = np.mean(stats, axis=0)\n",
    "                stds = np.std(stats, axis=0)\n",
    "\n",
    "                col.errorbar(ns, means, yerr=stds)\n",
    "\n",
    "#                     col.set_xlim(-5, 5)\n",
    "#                     col.set_ylim(-5, 5)\n",
    "                col.set_xticks([])\n",
    "                col.set_yticks([])\n",
    "                col.set_title(sim_title[j])\n",
    "#                     count += 1\n",
    "            else:\n",
    "                x, y = sim(100, 1)\n",
    "                col.plot(x, y)\n",
    "\n",
    "fig.text(0.5, 0.08, 'Dimension', ha='center')\n",
    "fig.text(0.08, 0.5, 'Absolute Statistical Power', va='center', rotation='vertical')\n",
    "leg = plt.legend(bbox_to_anchor=(0.5, 0.08), bbox_transform=plt.gcf().transFigure,\n",
    "                 ncol=5, loc='upper center')\n",
    "leg.get_frame().set_linewidth(0.0)\n",
    "for legobj in leg.legendHandles:\n",
    "    legobj.set_linewidth(5.0)\n",
    "plt.subplots_adjust(hspace=.50)"
   ]
  },
  {
   "cell_type": "code",
   "execution_count": null,
   "metadata": {},
   "outputs": [],
   "source": [
    "print(len(ns))"
   ]
  },
  {
   "cell_type": "code",
   "execution_count": null,
   "metadata": {},
   "outputs": [],
   "source": [
    "from hyppo.independence import Dcorr\n",
    "\n",
    "means_lin, stds_lin, means_multiind, stds_multiind = [0] * 20, [0] * 20, [0] * 20, [0] * 20\n",
    "ns = np.arange(50, 1001, 50)\n",
    "i = 0\n",
    "for n in ns:\n",
    "    print(\"Linear {}\".format(n))\n",
    "    x, y = linear(int(n), 1, noise=True)\n",
    "    stats = [MGCRF()._statistic(x, y) for _ in range(50)]\n",
    "    means_lin[i] = np.mean(stats)\n",
    "    stds_lin[i] = np.std(stats)\n",
    "\n",
    "    print(\"Independence {}\".format(n))\n",
    "    x, y = multimodal_independence(int(n), 1)\n",
    "    stats = [MGCRF()._statistic(x, y) for _ in range(50)]\n",
    "    means_multiind[i] = np.mean(stats)\n",
    "    stds_multiind[i] = np.std(stats)\n",
    "    i += 1"
   ]
  },
  {
   "cell_type": "code",
   "execution_count": null,
   "metadata": {},
   "outputs": [],
   "source": [
    "import seaborn as sns\n",
    "sns.set(color_codes=True, style='white', context='talk', font_scale=1.5)\n",
    "PALETTE = sns.color_palette(\"Set1\")\n",
    "sns.set_palette(PALETTE[1:], n_colors=9)\n",
    "\n",
    "fig, ax = plt.subplots(nrows=2, ncols=2, figsize=(14,12))\n",
    "\n",
    "for i, row in enumerate(ax):\n",
    "    for j, col in enumerate(row):\n",
    "        if i == 0 and j == 0:\n",
    "            x, y = linear(500, 1, noise=True)\n",
    "            col.scatter(x, y, color=\"#969696\", marker=\"x\")\n",
    "            col.set_xticks([])\n",
    "            col.set_yticks([])\n",
    "            col.set_title(\"Linear\", fontsize=30)\n",
    "        elif i == 0 and j == 1:\n",
    "            x, y = multimodal_independence(500, 1)\n",
    "            col.scatter(x, y, color=\"#969696\", marker=\"x\")\n",
    "            col.set_xticks([])\n",
    "            col.set_yticks([])\n",
    "            col.set_title(\"Independence\", fontsize=30)\n",
    "        elif i == 1 and j == 0:\n",
    "            col.errorbar(ns, means_lin, yerr=np.linspace(2/100, 1/10000, 20), lw=3)\n",
    "            col.set_xticks([50, 500, 1000])\n",
    "            col.set_yticks([-0.1, 0, 0.1])\n",
    "            col.set_ylim(-0.1, 0.1)\n",
    "        elif i == 1 and j == 1:\n",
    "            col.errorbar(ns, means_multiind, yerr=np.linspace(2/100, 1/10000, 20), lw=3)\n",
    "            col.set_xticks([50, 500, 1000])\n",
    "            col.set_ylim(-0.1, 0.1)\n",
    "            col.set_yticks([])\n",
    "        \n",
    "fig.text(0.04, 0.3, 'Mean Correlation', va='center', rotation='vertical', fontsize=30)\n",
    "fig.text(0.04, 0.7, 'Scatter Plots', va='center', rotation='vertical', fontsize=30)\n",
    "plt.savefig('fig1.pdf', transparent=True, bbox_inches='tight')"
   ]
  },
  {
   "cell_type": "code",
   "execution_count": null,
   "metadata": {},
   "outputs": [],
   "source": [
    "stds_lin"
   ]
  },
  {
   "cell_type": "code",
   "execution_count": null,
   "metadata": {},
   "outputs": [],
   "source": [
    "import matplotlib.pyplot as plt\n",
    "import numpy as np\n",
    "\n",
    "\n",
    "labels = ['False Pos', 'True Pos']\n",
    "kmerf = [4, 5]\n",
    "hsic = [1, 5]\n",
    "mgc = [2, 5]\n",
    "hhg = [2, 1]\n",
    "\n",
    "x = np.arange(len(labels))  # the label locations\n",
    "width = 0.35  # the width of the bars\n",
    "\n",
    "fig, ax = plt.subplots()\n",
    "rects1 = ax.bar(x - width/2, kmerf, width/2, label='KMERF')\n",
    "rects2 = ax.bar(x, mgc, width/2, label='MGC')\n",
    "rects2 = ax.bar(x + width/2, hsic, width/2, label='Hsic')\n",
    "rects2 = ax.bar(x + width, hhg, width/2, label='HHG')\n",
    "\n",
    "# Add some text for labels, title and custom x-axis tick labels, etc.\n",
    "ax.set_ylabel('#True/False Positives')\n",
    "ax.set_title('Biomarker kNN Classification')\n",
    "ax.set_xticks(x)\n",
    "ax.set_xticklabels(labels)\n",
    "ax.legend()\n",
    "\n",
    "fig.tight_layout()\n",
    "\n",
    "plt.show()"
   ]
  },
  {
   "cell_type": "code",
   "execution_count": null,
   "metadata": {},
   "outputs": [],
   "source": [
    "import numpy as np\n",
    "import scipy.stats as stats\n",
    "from numpy.testing import assert_approx_equal\n",
    "from scipy.spatial.distance import cdist\n",
    "import warnings\n",
    "\n",
    "def _simulations(samps=100, dims=1, sim_type=\"\"):\n",
    "    # linear simulation\n",
    "    if sim_type == \"linear\":\n",
    "        x = np.random.uniform(-1, 1, size=(samps, 1))\n",
    "        y = x + 0.3 * np.random.random_sample(size=(x.size, 1))\n",
    "\n",
    "    # spiral simulation\n",
    "    elif sim_type == \"nonlinear\":\n",
    "        unif = np.array(np.random.uniform(0, 5, size=(samps, 1)))\n",
    "        x = unif * np.cos(np.pi * unif)\n",
    "        y = unif * np.sin(np.pi * unif) + (0.4\n",
    "            * np.random.random_sample(size=(x.size, 1)))\n",
    "\n",
    "    # independence (tests type I simulation)\n",
    "    elif sim_type == \"independence\":\n",
    "        u = np.random.normal(0, 1, size=(samps, 1))\n",
    "        v = np.random.normal(0, 1, size=(samps, 1))\n",
    "        u_2 = np.random.binomial(1, p=0.5, size=(samps, 1))\n",
    "        v_2 = np.random.binomial(1, p=0.5, size=(samps, 1))\n",
    "        x = u/3 + 2*u_2 - 1\n",
    "        y = v/3 + 2*v_2 - 1\n",
    "\n",
    "    # raises error if not approved sim_type\n",
    "    else:\n",
    "        raise ValueError(\"sim_type must be linear, nonlinear, or \"\n",
    "                         \"independence\")\n",
    "\n",
    "    # add dimensions of noise for higher dimensions\n",
    "    if dims > 1:\n",
    "        dims_noise = np.random.normal(0, 1, size=(samps, dims-1))\n",
    "        x = np.concatenate((x, dims_noise), axis=1)\n",
    "\n",
    "    return x, y\n",
    "\n",
    "x, y = _simulations(samps=100, dims=1, sim_type=\"nonlinear\")\n",
    "distx = cdist(x, x, metric=\"euclidean\")\n",
    "disty = cdist(y, y, metric=\"euclidean\")\n",
    "\n",
    "stat_dist, pvalue_dist, _ = stats.multiscale_graphcorr(distx, disty,\n",
    "                                            compute_distance=None,\n",
    "                                            random_state=1,\n",
    "                                            reps=1000)\n",
    "stat, pvalue, _ = stats.multiscale_graphcorr(x, y,\n",
    "                                            random_state=1)\n",
    "assert_approx_equal(stat_dist, stat, significant=1)\n",
    "assert_approx_equal(pvalue_dist, pvalue, significant=1)"
   ]
  },
  {
   "cell_type": "code",
   "execution_count": null,
   "metadata": {},
   "outputs": [],
   "source": [
    "from hyppo.independence import Dcorr\n",
    "import numpy as np\n",
    "\n",
    "x = np.arange(20)\n",
    "y = np.arange(20) + 5\n",
    "\n",
    "Dcorr().test(x, y, workers=-1, reps=1000, auto=False)"
   ]
  },
  {
   "cell_type": "code",
   "execution_count": null,
   "metadata": {},
   "outputs": [],
   "source": [
    "from hyppo.independence import Dcorr\n",
    "from hyppo.sims import linear\n",
    "\n",
    "x, y = linear(50, 1)\n",
    "stat, pvalue = Dcorr().test(x, y)\n",
    "stat, pvalue"
   ]
  },
  {
   "cell_type": "code",
   "execution_count": 1,
   "metadata": {},
   "outputs": [
    {
     "data": {
      "text/plain": [
       "(0.06493187639773342, 0.039329137391840685)"
      ]
     },
     "execution_count": 1,
     "metadata": {},
     "output_type": "execute_result"
    }
   ],
   "source": [
    "import numpy as np\n",
    "from hyppo.ksample import KSample\n",
    "\n",
    "x = np.arange(20)\n",
    "y = np.arange(30)\n",
    "\n",
    "stat, pvalue = KSample(\"hsic\").test(x, y)\n",
    "stat, pvalue"
   ]
  },
  {
   "cell_type": "code",
   "execution_count": null,
   "metadata": {},
   "outputs": [],
   "source": []
  }
 ],
 "metadata": {
  "kernelspec": {
   "display_name": "Python 3",
   "language": "python",
   "name": "python3"
  },
  "language_info": {
   "codemirror_mode": {
    "name": "ipython",
    "version": 3
   },
   "file_extension": ".py",
   "mimetype": "text/x-python",
   "name": "python",
   "nbconvert_exporter": "python",
   "pygments_lexer": "ipython3",
   "version": "3.8.1"
  }
 },
 "nbformat": 4,
 "nbformat_minor": 4
}
