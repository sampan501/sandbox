{
 "cells": [
  {
   "cell_type": "code",
   "execution_count": 5,
   "metadata": {},
   "outputs": [],
   "source": [
    "import numpy as np\n",
    "import matplotlib.pyplot as plt\n",
    "from tqdm.notebook import tqdm"
   ]
  },
  {
   "cell_type": "code",
   "execution_count": 6,
   "metadata": {},
   "outputs": [],
   "source": [
    "from mgc.independence import Dcorr"
   ]
  },
  {
   "cell_type": "code",
   "execution_count": 7,
   "metadata": {},
   "outputs": [],
   "source": [
    "# Set constants. Please ONLY change this block when running\n",
    "NUM_TESTS = 500\n",
    "N_SAMP = 100\n",
    "PROB = 0.2"
   ]
  },
  {
   "cell_type": "code",
   "execution_count": 8,
   "metadata": {},
   "outputs": [],
   "source": [
    "def calc_pvals(hyp_test):\n",
    "    \"\"\"Calculate p-values for each test\"\"\"\n",
    "    pvals = np.zeros(NUM_TESTS)\n",
    "    \n",
    "    # run hypothesis test over 2 iid binomials\n",
    "    for i in tqdm(range(NUM_TESTS)):\n",
    "        x = np.random.binomial(N_SAMP, PROB, size=(N_SAMP, 1))\n",
    "        y = np.random.binomial(N_SAMP, PROB, size=(N_SAMP, 1))\n",
    "        \n",
    "        _, pvalue = hyp_test.test(x, y, workers=-1, reps=100, random_state=1)\n",
    "        pvals[i] = pvalue\n",
    "        \n",
    "    return pvals"
   ]
  },
  {
   "cell_type": "code",
   "execution_count": 9,
   "metadata": {},
   "outputs": [],
   "source": [
    "def hist_pvalues(pvals):\n",
    "    \"\"\"Plot histogram of the p-values\"\"\"\n",
    "\n",
    "    # weights of the histograms\n",
    "    weights = np.ones_like(pvals)/float(len(pvals))\n",
    "\n",
    "    plt.hist(pvals, bins=np.arange(0, 1, 0.01), weights=weights)\n",
    "    plt.xlabel('P-values')\n",
    "    plt.ylabel('Fraction of Occurrence')\n",
    "    plt.title('P-values of iid Binomials (n=%.f, p=%.1f)' % (NUM_TESTS, PROB))\n",
    "    plt.show()"
   ]
  },
  {
   "cell_type": "code",
   "execution_count": 10,
   "metadata": {
    "scrolled": false
   },
   "outputs": [
    {
     "data": {
      "application/vnd.jupyter.widget-view+json": {
       "model_id": "5d9eff9425e34e77ad3857e13f7709aa",
       "version_major": 2,
       "version_minor": 0
      },
      "text/plain": [
       "HBox(children=(IntProgress(value=0, max=500), HTML(value='')))"
      ]
     },
     "metadata": {},
     "output_type": "display_data"
    },
    {
     "name": "stderr",
     "output_type": "stream",
     "text": [
      "/Users/sampan501/miniconda3/lib/python3.7/site-packages/mgc-0.0.1-py3.7.egg/mgc/_utils.py:62: RuntimeWarning: The number of replications is low (under 1000), and p-value calculations may be unreliable. Use the p-value result, with caution!\n",
      "/Users/sampan501/miniconda3/lib/python3.7/site-packages/mgc-0.0.1-py3.7.egg/mgc/_utils.py:62: RuntimeWarning: The number of replications is low (under 1000), and p-value calculations may be unreliable. Use the p-value result, with caution!\n"
     ]
    },
    {
     "name": "stdout",
     "output_type": "stream",
     "text": [
      "\n"
     ]
    },
    {
     "data": {
      "image/png": "[encoded data removed]",
      "text/plain": [
       "<Figure size 432x288 with 1 Axes>"
      ]
     },
     "metadata": {
      "needs_background": "light"
     },
     "output_type": "display_data"
    }
   ],
   "source": [
    "pvals = calc_pvals(Dcorr())\n",
    "hist_pvalues(pvals)"
   ]
  },
  {
   "cell_type": "code",
   "execution_count": null,
   "metadata": {},
   "outputs": [],
   "source": []
  }
 ],
 "metadata": {
  "kernelspec": {
   "display_name": "Python 3",
   "language": "python",
   "name": "python3"
  },
  "language_info": {
   "codemirror_mode": {
    "name": "ipython",
    "version": 3
   },
   "file_extension": ".py",
   "mimetype": "text/x-python",
   "name": "python",
   "nbconvert_exporter": "python",
   "pygments_lexer": "ipython3",
   "version": "3.7.4"
  }
 },
 "nbformat": 4,
 "nbformat_minor": 2
}
