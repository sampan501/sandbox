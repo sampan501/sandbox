{
 "cells": [
  {
   "cell_type": "code",
   "execution_count": 1,
   "metadata": {},
   "outputs": [],
   "source": [
    "import numpy as np\n",
    "import matplotlib.pyplot as plt\n",
    "from tqdm.notebook import tqdm"
   ]
  },
  {
   "cell_type": "code",
   "execution_count": 2,
   "metadata": {},
   "outputs": [],
   "source": [
    "from mgc.ksample import KSample"
   ]
  },
  {
   "cell_type": "code",
   "execution_count": 3,
   "metadata": {},
   "outputs": [],
   "source": [
    "# Set constants. Please ONLY change this block when running\n",
    "NUM_TESTS = 200\n",
    "N_SAMP = 100\n",
    "PROB = 0.2"
   ]
  },
  {
   "cell_type": "code",
   "execution_count": 4,
   "metadata": {},
   "outputs": [],
   "source": [
    "def calc_pvals(hyp_test):\n",
    "    \"\"\"Calculate p-values for each test\"\"\"\n",
    "    pvals = np.zeros(NUM_TESTS)\n",
    "    \n",
    "    # run hypothesis test over 2 iid binomials\n",
    "    for i in tqdm(range(NUM_TESTS)):\n",
    "        x = np.random.binomial(N_SAMP, PROB, size=(N_SAMP, 1))\n",
    "        y = np.random.binomial(N_SAMP, PROB, size=(N_SAMP, 1))\n",
    "        \n",
    "        _, pvalue = hyp_test.test(x, y, workers=-1)\n",
    "        pvals[i] = pvalue\n",
    "        \n",
    "    return pvals"
   ]
  },
  {
   "cell_type": "code",
   "execution_count": 5,
   "metadata": {},
   "outputs": [],
   "source": [
    "def hist_pvalues(pvals):\n",
    "    \"\"\"Plot histogram of the p-values\"\"\"\n",
    "\n",
    "    # weights of the histograms\n",
    "    weights = np.ones_like(pvals)/float(len(pvals))\n",
    "\n",
    "    plt.hist(pvals, bins=np.arange(0, 1, 0.01), weights=weights)\n",
    "    plt.xlabel('P-values')\n",
    "    plt.ylabel('Fraction of Occurrence')\n",
    "    plt.title('P-values of iid Binomials (n=%.f, p=%.1f)' % (NUM_TESTS, PROB))\n",
    "    plt.show()"
   ]
  },
  {
   "cell_type": "code",
   "execution_count": 6,
   "metadata": {
    "scrolled": false
   },
   "outputs": [
    {
     "data": {
      "application/vnd.jupyter.widget-view+json": {
       "model_id": "a2cdf95a58fb45e3b460f8220d0fdd6d",
       "version_major": 2,
       "version_minor": 0
      },
      "text/plain": [
       "HBox(children=(IntProgress(value=0, max=200), HTML(value='')))"
      ]
     },
     "metadata": {},
     "output_type": "display_data"
    },
    {
     "name": "stdout",
     "output_type": "stream",
     "text": [
      "\n"
     ]
    },
    {
     "data": {
      "image/png": "[encoded data removed]",
      "text/plain": [
       "<Figure size 432x288 with 1 Axes>"
      ]
     },
     "metadata": {
      "needs_background": "light"
     },
     "output_type": "display_data"
    }
   ],
   "source": [
    "pvals = calc_pvals(KSample(\"dcorr\"))\n",
    "hist_pvalues(pvals)"
   ]
  },
  {
   "cell_type": "code",
   "execution_count": null,
   "metadata": {},
   "outputs": [],
   "source": []
  }
 ],
 "metadata": {
  "kernelspec": {
   "display_name": "Python 3",
   "language": "python",
   "name": "python3"
  },
  "language_info": {
   "codemirror_mode": {
    "name": "ipython",
    "version": 3
   },
   "file_extension": ".py",
   "mimetype": "text/x-python",
   "name": "python",
   "nbconvert_exporter": "python",
   "pygments_lexer": "ipython3",
   "version": "3.7.4"
  }
 },
 "nbformat": 4,
 "nbformat_minor": 2
}
