{
 "cells": [
  {
   "cell_type": "code",
   "execution_count": null,
   "metadata": {},
   "outputs": [],
   "source": [
    "from mgc.independence import Dcorr\n",
    "from mgc.independence import MGC\n",
    "from mgc.sims import spiral"
   ]
  },
  {
   "cell_type": "code",
   "execution_count": null,
   "metadata": {},
   "outputs": [],
   "source": [
    "x1, y1 = spiral(100, 1)\n",
    "x2, y2 = spiral(1000, 1)"
   ]
  },
  {
   "cell_type": "code",
   "execution_count": null,
   "metadata": {},
   "outputs": [],
   "source": [
    "mgc_stat1, mgc_pvalue1, _ = MGC().test(x1, y1)\n",
    "mgc_stat1, mgc_pvalue1"
   ]
  },
  {
   "cell_type": "code",
   "execution_count": null,
   "metadata": {},
   "outputs": [],
   "source": [
    "mgc_stat2, mgc_pvalue2, _ = MGC().test(x2, y2)\n",
    "mgc_stat2, mgc_pvalue2"
   ]
  },
  {
   "cell_type": "code",
   "execution_count": null,
   "metadata": {},
   "outputs": [],
   "source": [
    "dcorr_stat1, dcorr_pvalue1 = Dcorr().test(x1, y1)\n",
    "dcorr_stat1, dcorr_pvalue1"
   ]
  },
  {
   "cell_type": "code",
   "execution_count": null,
   "metadata": {},
   "outputs": [],
   "source": [
    "dcorr_stat2, dcorr_pvalue2 = Dcorr().test(x2, y2)\n",
    "dcorr_stat2, dcorr_pvalue2"
   ]
  },
  {
   "cell_type": "code",
   "execution_count": 12,
   "metadata": {},
   "outputs": [
    {
     "data": {
      "text/plain": [
       "(array([[ 0.58776539,  0.66805403],\n",
       "        [-3.67458666, -1.50492141],\n",
       "        [-0.10286198,  1.62960702],\n",
       "        [ 0.10261725, -0.37899696],\n",
       "        [-1.42530403,  0.79172694],\n",
       "        [ 0.15360186, -0.8755682 ],\n",
       "        [ 2.3999277 ,  0.68590463],\n",
       "        [ 1.67761095, -0.31286302],\n",
       "        [-1.25017923,  1.04859747],\n",
       "        [ 0.92075703,  0.22847308],\n",
       "        [-1.13256961,  0.40831922],\n",
       "        [-0.44862493, -0.35835669],\n",
       "        [ 0.72204599, -2.46904574],\n",
       "        [ 1.12477915, -0.90224788],\n",
       "        [ 1.12517285, -1.50085138]]), array([[1., 0., 0.],\n",
       "        [1., 0., 0.],\n",
       "        [1., 0., 0.],\n",
       "        [1., 0., 0.],\n",
       "        [1., 0., 0.],\n",
       "        [0., 1., 0.],\n",
       "        [0., 1., 0.],\n",
       "        [0., 1., 0.],\n",
       "        [0., 1., 0.],\n",
       "        [0., 1., 0.],\n",
       "        [0., 0., 1.],\n",
       "        [0., 0., 1.],\n",
       "        [0., 0., 1.],\n",
       "        [0., 0., 1.],\n",
       "        [0., 0., 1.]]))"
      ]
     },
     "execution_count": 12,
     "metadata": {},
     "output_type": "execute_result"
    }
   ],
   "source": [
    "import numpy as np\n",
    "from mgc.independence import Dcorr\n",
    "from mgc.independence import MGC\n",
    "from mgc.sims import gaussian_3samp\n",
    "\n",
    "def k_sample_transform(inputs):\n",
    "    n_inputs = len(inputs)\n",
    "    u = np.vstack(inputs)\n",
    "    vs = []\n",
    "    for i in range(n_inputs):\n",
    "        n, p = inputs[i].shape\n",
    "        encode = np.zeros(shape=(n, n_inputs))\n",
    "        encode[:, i] = np.ones(shape=n)\n",
    "        vs.append(encode)\n",
    "    v = np.concatenate(vs)\n",
    "\n",
    "    return u, v\n",
    "\n",
    "\n",
    "sims = gaussian_3samp(5)\n",
    "u, v = k_sample_transform(sims)\n",
    "u, v"
   ]
  },
  {
   "cell_type": "code",
   "execution_count": null,
   "metadata": {},
   "outputs": [],
   "source": []
  }
 ],
 "metadata": {
  "kernelspec": {
   "display_name": "Python 3",
   "language": "python",
   "name": "python3"
  },
  "language_info": {
   "codemirror_mode": {
    "name": "ipython",
    "version": 3
   },
   "file_extension": ".py",
   "mimetype": "text/x-python",
   "name": "python",
   "nbconvert_exporter": "python",
   "pygments_lexer": "ipython3",
   "version": "3.7.4"
  }
 },
 "nbformat": 4,
 "nbformat_minor": 2
}
