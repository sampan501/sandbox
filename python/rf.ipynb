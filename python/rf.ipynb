{
 "cells": [
  {
   "cell_type": "code",
   "execution_count": 1,
   "metadata": {},
   "outputs": [],
   "source": [
    "from mgc.sims import linear, logarithmic\n",
    "from mgc.ksample._utils import k_sample_transform"
   ]
  },
  {
   "cell_type": "code",
   "execution_count": 2,
   "metadata": {},
   "outputs": [],
   "source": [
    "from mgc.ksample import KSample"
   ]
  },
  {
   "cell_type": "code",
   "execution_count": null,
   "metadata": {},
   "outputs": [],
   "source": [
    "x, y = logarithmic(100, 5)\n",
    "rfdcorr_stat, rfdcorr_pvalue = KSample(\"DcorrRF\").test(x, y, workers=-1)\n",
    "rfhsic_stat, rfhsic_pvalue = KSample(\"HsicRF\").test(x, y, workers=-1)\n",
    "print(rfdcorr_stat, rfhsic_stat, rfdcorr_pvalue, rfhsic_pvalue)"
   ]
  },
  {
   "cell_type": "code",
   "execution_count": null,
   "metadata": {},
   "outputs": [],
   "source": []
  }
 ],
 "metadata": {
  "kernelspec": {
   "display_name": "Python 3",
   "language": "python",
   "name": "python3"
  },
  "language_info": {
   "codemirror_mode": {
    "name": "ipython",
    "version": 3
   },
   "file_extension": ".py",
   "mimetype": "text/x-python",
   "name": "python",
   "nbconvert_exporter": "python",
   "pygments_lexer": "ipython3",
   "version": "3.7.4"
  }
 },
 "nbformat": 4,
 "nbformat_minor": 2
}
