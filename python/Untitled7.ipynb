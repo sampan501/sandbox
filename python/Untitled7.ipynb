{
 "cells": [
  {
   "cell_type": "code",
   "execution_count": 16,
   "metadata": {},
   "outputs": [
    {
     "name": "stdout",
     "output_type": "stream",
     "text": [
      "Statistic: 14946.119760479043\n",
      "P-value: 1.1102230246251565e-16\n"
     ]
    }
   ],
   "source": [
    "import numpy as np\n",
    "import scipy\n",
    "from hyppo.ksample import Hotelling\n",
    "\n",
    "x = np.hstack([np.arange(500).reshape(-1, 1), np.arange(500, 1000).reshape(-1, 1)])\n",
    "y = (np.array([[0, -1], [1, 0]]) @ x.T).T\n",
    "\n",
    "stat, pvalue = Hotelling().test(x, y)\n",
    "print(\"Statistic: {}\".format(stat))\n",
    "print(\"P-value: {}\".format(pvalue))"
   ]
  },
  {
   "cell_type": "code",
   "execution_count": null,
   "metadata": {},
   "outputs": [],
   "source": []
  }
 ],
 "metadata": {
  "kernelspec": {
   "display_name": "Python 3",
   "language": "python",
   "name": "python3"
  },
  "language_info": {
   "codemirror_mode": {
    "name": "ipython",
    "version": 3
   },
   "file_extension": ".py",
   "mimetype": "text/x-python",
   "name": "python",
   "nbconvert_exporter": "python",
   "pygments_lexer": "ipython3",
   "version": "3.8.1"
  }
 },
 "nbformat": 4,
 "nbformat_minor": 2
}
