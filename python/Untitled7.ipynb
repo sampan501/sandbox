{
 "cells": [
  {
   "cell_type": "code",
   "execution_count": 106,
   "metadata": {},
   "outputs": [],
   "source": [
    "import numpy as np\n",
    "import scipy\n",
    "\n",
    "\n",
    "def _statistic(x, y):\n",
    "    r\"\"\"\n",
    "    Calulates the *k*-sample test statistic.\n",
    "\n",
    "    Parameters\n",
    "    ----------\n",
    "    *args : ndarrays\n",
    "        Variable length input data matrices. All inputs must have the same\n",
    "        number of samples. That is, the shapes must be `(n, p)` and\n",
    "        `(m, p)` where `n` and `m` are the number of samples and `p` are\n",
    "        the number of dimensions. Alternatively, inputs can be distance\n",
    "        matrices, where the shapes must all be `(n, n)`.\n",
    "    \"\"\"\n",
    "    # ported from Hotteling packge in R\n",
    "    nx = x.shape[0]\n",
    "    ny = y.shape[0]\n",
    "\n",
    "    meanx = np.mean(x, axis=0).reshape(-1, 1)\n",
    "    meany = np.mean(y, axis=0).reshape(-1, 1)\n",
    "\n",
    "    covx = np.cov(x, rowvar=False)\n",
    "    covy = np.cov(y, rowvar=False)\n",
    "\n",
    "    covs = ((nx - 1) * covx + (ny - 1) * covy) / (nx + ny - 2)\n",
    "    inv_covs = scipy.linalg.inv(covs)\n",
    "\n",
    "    stat = np.sum((meanx - meany).T @ inv_covs @ (meanx - meany) * nx * ny / (nx + ny))\n",
    "\n",
    "    return stat"
   ]
  },
  {
   "cell_type": "code",
   "execution_count": 107,
   "metadata": {},
   "outputs": [
    {
     "name": "stdout",
     "output_type": "stream",
     "text": [
      "0.6373338643604227\n"
     ]
    }
   ],
   "source": [
    "from hyppo.sims import rot_2samp, linear\n",
    "\n",
    "np.random.seed(0)\n",
    "x, y = rot_2samp(linear, 1000, 1)\n",
    "stat = _statistic(x, y)\n",
    "print(stat)"
   ]
  },
  {
   "cell_type": "code",
   "execution_count": null,
   "metadata": {},
   "outputs": [],
   "source": []
  }
 ],
 "metadata": {
  "kernelspec": {
   "display_name": "Python 3",
   "language": "python",
   "name": "python3"
  },
  "language_info": {
   "codemirror_mode": {
    "name": "ipython",
    "version": 3
   },
   "file_extension": ".py",
   "mimetype": "text/x-python",
   "name": "python",
   "nbconvert_exporter": "python",
   "pygments_lexer": "ipython3",
   "version": "3.7.4"
  }
 },
 "nbformat": 4,
 "nbformat_minor": 2
}
