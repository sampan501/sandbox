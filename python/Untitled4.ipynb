{
 "cells": [
  {
   "cell_type": "code",
   "execution_count": null,
   "metadata": {},
   "outputs": [],
   "source": [
    "from mgcpy.independence_tests.dcorr import DCorr\n",
    "from mgcpy.benchmarks.simulations import linear_sim\n",
    "\n",
    "x, y = linear_sim(100, 1)\n",
    "pvalue, _ = DCorr().p_value(x, y)\n",
    "pvalue"
   ]
  },
  {
   "cell_type": "code",
   "execution_count": null,
   "metadata": {},
   "outputs": [],
   "source": [
    "import numpy as np\n",
    "np.array([1/(i+1) for i in range(1000)])"
   ]
  },
  {
   "cell_type": "code",
   "execution_count": null,
   "metadata": {},
   "outputs": [],
   "source": [
    "from scipy.spatial.distance import cdist\n",
    "import numpy as np\n",
    "from mgc.sims import step\n",
    "\n",
    "x, y = step(5, 999)\n",
    "\n",
    "def gaussian(x):\n",
    "    \"\"\"Default medial gaussian kernel similarity calculation\"\"\"\n",
    "    l1 = cdist(x, x, 'cityblock')\n",
    "    gamma = 1.0 / (2 * (np.median(l1[~np.eye(l1.shape[0], dtype=bool)]) ** 2))\n",
    "    return np.exp(-gamma * cdist(x, x, 'sqeuclidean'))\n",
    "\n",
    "me = gaussian(x)\n",
    "\n",
    "from numba import njit\n",
    "\n",
    "@njit\n",
    "def median_band(x):\n",
    "    for i, j in range(x.shape):\n",
    "        dif\n",
    "\n",
    "np.allclose(me, me2)"
   ]
  },
  {
   "cell_type": "code",
   "execution_count": null,
   "metadata": {},
   "outputs": [],
   "source": [
    "import numpy as np\n",
    "\n",
    "from mgcpy.independence_tests.dcorr import DCorr\n",
    "from mgc.independence import Dcorr\n",
    "from mgc.sims import spiral\n",
    "\n",
    "x, y = spiral(100, 6)\n",
    "mgcpy_stat, _ = DCorr(which_test=\"unbiased\").test_statistic(x, y)\n",
    "mgcpy_pvalue, _ = DCorr(which_test=\"unbiased\").p_value(x, y)\n",
    "mgc_stat, mgc_pvalue = Dcorr().test(x, y)\n",
    "\n",
    "print(np.abs(mgcpy_stat - mgc_stat))\n",
    "print(mgcpy_pvalue <= 0.05, mgc_pvalue)"
   ]
  },
  {
   "cell_type": "code",
   "execution_count": null,
   "metadata": {},
   "outputs": [],
   "source": [
    "import numpy as np\n",
    "rot_mat = np.identity(5 + 1)\n",
    "rot_mat[np.ix_((0, -1), (0, -1))] = np.array(\n",
    "    [[np.cos(90), -np.sin(90)], [np.sin(90), np.cos(90)]]\n",
    ")\n",
    "print(rot_mat)"
   ]
  },
  {
   "cell_type": "code",
   "execution_count": null,
   "metadata": {},
   "outputs": [],
   "source": [
    "import numpy as np\n",
    "rot_mat = np.identity(5 + 1)\n",
    "rot_mat[0, 0] = np.cos(90)\n",
    "rot_mat[0, -1] = -np.sin(90)\n",
    "rot_mat[-1, 0] = np.cos(90)\n",
    "rot_mat[-1, -1] = np.cos(90)\n",
    "print(rot_mat)"
   ]
  },
  {
   "cell_type": "code",
   "execution_count": 4,
   "metadata": {},
   "outputs": [
    {
     "name": "stderr",
     "output_type": "stream",
     "text": [
      "/Users/sampan501/workspace/mgc/mgc/_utils.py:65: RuntimeWarning: The number of replications is low (under 1000), and p-value calculations may be unreliable. Use the p-value result, with caution!\n",
      "  warnings.warn(msg, RuntimeWarning)\n",
      "/Users/sampan501/workspace/mgc/mgc/_utils.py:65: RuntimeWarning: The number of replications is low (under 1000), and p-value calculations may be unreliable. Use the p-value result, with caution!\n",
      "  warnings.warn(msg, RuntimeWarning)\n",
      "/Users/sampan501/workspace/mgc/mgc/_utils.py:65: RuntimeWarning: The number of replications is low (under 1000), and p-value calculations may be unreliable. Use the p-value result, with caution!\n",
      "  warnings.warn(msg, RuntimeWarning)\n",
      "/Users/sampan501/workspace/mgc/mgc/_utils.py:65: RuntimeWarning: The number of replications is low (under 1000), and p-value calculations may be unreliable. Use the p-value result, with caution!\n",
      "  warnings.warn(msg, RuntimeWarning)\n",
      "/Users/sampan501/workspace/mgc/mgc/_utils.py:65: RuntimeWarning: The number of replications is low (under 1000), and p-value calculations may be unreliable. Use the p-value result, with caution!\n",
      "  warnings.warn(msg, RuntimeWarning)\n",
      "/Users/sampan501/workspace/mgc/mgc/_utils.py:65: RuntimeWarning: The number of replications is low (under 1000), and p-value calculations may be unreliable. Use the p-value result, with caution!\n",
      "  warnings.warn(msg, RuntimeWarning)\n",
      "/Users/sampan501/workspace/mgc/mgc/_utils.py:65: RuntimeWarning: The number of replications is low (under 1000), and p-value calculations may be unreliable. Use the p-value result, with caution!\n",
      "  warnings.warn(msg, RuntimeWarning)\n",
      "/Users/sampan501/workspace/mgc/mgc/_utils.py:65: RuntimeWarning: The number of replications is low (under 1000), and p-value calculations may be unreliable. Use the p-value result, with caution!\n",
      "  warnings.warn(msg, RuntimeWarning)\n"
     ]
    },
    {
     "name": "stdout",
     "output_type": "stream",
     "text": [
      "23.7 s ± 79.8 ms per loop (mean ± std. dev. of 7 runs, 1 loop each)\n"
     ]
    }
   ],
   "source": [
    "%%timeit\n",
    "import numpy as np\n",
    "from mgc.independence import Dcorr\n",
    "from mgc.random_forest import DcorrRF\n",
    "\n",
    "x = np.arange(200)\n",
    "y = x\n",
    "test = DcorrRF().test(x, y, reps=100)"
   ]
  },
  {
   "cell_type": "code",
   "execution_count": null,
   "metadata": {},
   "outputs": [],
   "source": []
  }
 ],
 "metadata": {
  "kernelspec": {
   "display_name": "Python 3",
   "language": "python",
   "name": "python3"
  },
  "language_info": {
   "codemirror_mode": {
    "name": "ipython",
    "version": 3
   },
   "file_extension": ".py",
   "mimetype": "text/x-python",
   "name": "python",
   "nbconvert_exporter": "python",
   "pygments_lexer": "ipython3",
   "version": "3.7.4"
  }
 },
 "nbformat": 4,
 "nbformat_minor": 2
}
