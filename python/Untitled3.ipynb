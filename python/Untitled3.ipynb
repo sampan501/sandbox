{
 "cells": [
  {
   "cell_type": "code",
   "execution_count": 2,
   "metadata": {},
   "outputs": [
    {
     "name": "stdout",
     "output_type": "stream",
     "text": [
      "1.0\n"
     ]
    }
   ],
   "source": [
    "import numpy as np\n",
    "from mgcpy.independence_tests.mgc import MGC\n",
    "\n",
    "x = np.arange(7).reshape(-1, 1).astype(np.float64)\n",
    "y = x = np.arange(7).reshape(-1, 1).astype(np.float64)\n",
    "\n",
    "mgc = MGC()\n",
    "stat, _ = mgc.test_statistic(x, y)\n",
    "print(stat)"
   ]
  },
  {
   "cell_type": "code",
   "execution_count": 7,
   "metadata": {},
   "outputs": [],
   "source": [
    "import numpy as np\n",
    "def _k_sample_rotate2d(p, degree=90):\n",
    "    angle = np.radians(degree)\n",
    "    rot_mat = np.identity(p+1)\n",
    "    rot_mat[np.ix_((0,-1),(0,-1))] = np.array([[np.cos(angle), -np.sin(angle)], [np.sin(angle), np.cos(angle)]])\n",
    "\n",
    "    return rot_mat"
   ]
  },
  {
   "cell_type": "code",
   "execution_count": 12,
   "metadata": {},
   "outputs": [
    {
     "data": {
      "text/plain": [
       "array([[ 6.123234e-17,  0.000000e+00,  0.000000e+00,  0.000000e+00,\n",
       "        -1.000000e+00],\n",
       "       [ 0.000000e+00,  1.000000e+00,  0.000000e+00,  0.000000e+00,\n",
       "         0.000000e+00],\n",
       "       [ 0.000000e+00,  0.000000e+00,  1.000000e+00,  0.000000e+00,\n",
       "         0.000000e+00],\n",
       "       [ 0.000000e+00,  0.000000e+00,  0.000000e+00,  1.000000e+00,\n",
       "         0.000000e+00],\n",
       "       [ 1.000000e+00,  0.000000e+00,  0.000000e+00,  0.000000e+00,\n",
       "         6.123234e-17]])"
      ]
     },
     "execution_count": 12,
     "metadata": {},
     "output_type": "execute_result"
    }
   ],
   "source": [
    "_k_sample_rotate2d(4)"
   ]
  },
  {
   "cell_type": "code",
   "execution_count": 9,
   "metadata": {},
   "outputs": [
    {
     "data": {
      "text/plain": [
       "6.123233995736766e-17"
      ]
     },
     "execution_count": 9,
     "metadata": {},
     "output_type": "execute_result"
    }
   ],
   "source": [
    "np.cos(np.radians(90))"
   ]
  },
  {
   "cell_type": "code",
   "execution_count": 2,
   "metadata": {},
   "outputs": [],
   "source": [
    "from mgc.sims import *\n",
    "\n",
    "SIMS = [linear, spiral, exponential, cubic, joint_normal, step, quadratic,\n",
    "        w_shaped, uncorrelated_bernoulli, logarithmic, fourth_root,\n",
    "        sin_four_pi, sin_sixteen_pi, two_parabolas, circle, ellipse, diamond,\n",
    "        multiplicative_noise, square, multimodal_independence]"
   ]
  },
  {
   "cell_type": "code",
   "execution_count": 4,
   "metadata": {},
   "outputs": [
    {
     "name": "stdout",
     "output_type": "stream",
     "text": [
      "linear | (100, 1) | (100, 1) | (100, 5) | (100, 1) \n",
      "\n",
      "spiral | (100, 1) | (100, 1) | (100, 5) | (100, 1) \n",
      "\n",
      "exponential | (100, 1) | (100, 1) | (100, 5) | (100, 1) \n",
      "\n",
      "cubic | (100, 1) | (100, 1) | (100, 5) | (100, 1) \n",
      "\n",
      "joint_normal | (100, 1) | (100, 1) | (100, 5) | (100, 5) \n",
      "\n",
      "step | (100, 1) | (100, 1) | (100, 5) | (100, 1) \n",
      "\n",
      "quadratic | (100, 1) | (100, 1) | (100, 5) | (100, 1) \n",
      "\n",
      "w_shaped | (100, 1) | (100, 1) | (100, 5) | (100, 1) \n",
      "\n",
      "uncorrelated_bernoulli | (100, 1) | (100, 1) | (100, 5) | (100, 1) \n",
      "\n",
      "logarithmic | (100, 1) | (100, 1) | (100, 5) | (100, 5) \n",
      "\n",
      "fourth_root | (100, 1) | (100, 1) | (100, 5) | (100, 1) \n",
      "\n",
      "sin_four_pi | (100, 1) | (100, 1) | (100, 5) | (100, 5) \n",
      "\n",
      "sin_sixteen_pi | (100, 1) | (100, 1) | (100, 5) | (100, 5) \n",
      "\n",
      "two_parabolas | (100, 1) | (100, 1) | (100, 5) | (100, 5) \n",
      "\n"
     ]
    },
    {
     "ename": "TypeError",
     "evalue": "circle() got an unexpected keyword argument 'radius'",
     "output_type": "error",
     "traceback": [
      "\u001b[0;31m---------------------------------------------------------------------------\u001b[0m",
      "\u001b[0;31mTypeError\u001b[0m                                 Traceback (most recent call last)",
      "\u001b[0;32m<ipython-input-4-8db7838508a4>\u001b[0m in \u001b[0;36m<module>\u001b[0;34m\u001b[0m\n\u001b[1;32m      1\u001b[0m \u001b[0;32mfor\u001b[0m \u001b[0msim\u001b[0m \u001b[0;32min\u001b[0m \u001b[0mSIMS\u001b[0m\u001b[0;34m:\u001b[0m\u001b[0;34m\u001b[0m\u001b[0;34m\u001b[0m\u001b[0m\n\u001b[1;32m      2\u001b[0m     \u001b[0;32mif\u001b[0m \u001b[0msim\u001b[0m\u001b[0;34m.\u001b[0m\u001b[0m__name__\u001b[0m \u001b[0;32min\u001b[0m \u001b[0;34m[\u001b[0m\u001b[0;34m\"circle\"\u001b[0m\u001b[0;34m,\u001b[0m \u001b[0;34m\"eclipse\"\u001b[0m\u001b[0;34m]\u001b[0m\u001b[0;34m:\u001b[0m\u001b[0;34m\u001b[0m\u001b[0;34m\u001b[0m\u001b[0m\n\u001b[0;32m----> 3\u001b[0;31m         \u001b[0mx1\u001b[0m\u001b[0;34m,\u001b[0m \u001b[0my1\u001b[0m \u001b[0;34m=\u001b[0m \u001b[0msim\u001b[0m\u001b[0;34m(\u001b[0m\u001b[0;36m100\u001b[0m\u001b[0;34m,\u001b[0m \u001b[0;36m1\u001b[0m\u001b[0;34m,\u001b[0m \u001b[0mradius\u001b[0m\u001b[0;34m=\u001b[0m\u001b[0;36m1.\u001b[0m\u001b[0;34m)\u001b[0m\u001b[0;34m\u001b[0m\u001b[0;34m\u001b[0m\u001b[0m\n\u001b[0m\u001b[1;32m      4\u001b[0m         \u001b[0mx2\u001b[0m\u001b[0;34m,\u001b[0m \u001b[0my2\u001b[0m \u001b[0;34m=\u001b[0m \u001b[0msim\u001b[0m\u001b[0;34m(\u001b[0m\u001b[0;36m100\u001b[0m\u001b[0;34m,\u001b[0m \u001b[0;36m5\u001b[0m\u001b[0;34m,\u001b[0m \u001b[0mradius\u001b[0m\u001b[0;34m=\u001b[0m\u001b[0;36m1.\u001b[0m\u001b[0;34m)\u001b[0m\u001b[0;34m\u001b[0m\u001b[0;34m\u001b[0m\u001b[0m\n\u001b[1;32m      5\u001b[0m     \u001b[0;32melse\u001b[0m\u001b[0;34m:\u001b[0m\u001b[0;34m\u001b[0m\u001b[0;34m\u001b[0m\u001b[0m\n",
      "\u001b[0;31mTypeError\u001b[0m: circle() got an unexpected keyword argument 'radius'"
     ]
    }
   ],
   "source": [
    "for sim in SIMS:\n",
    "    if sim.__name__ in [\"circle\", \"eclipse\"]:\n",
    "        x1, y1 = sim(100, 1, radius=1.)\n",
    "        x2, y2 = sim(100, 5, radius=1.)\n",
    "    else:\n",
    "        x1, y1 = sim(100, 1)\n",
    "        x2, y2 = sim(100, 5)\n",
    "    print(\"{} | {} | {} | {} | {} \\n\".format(sim.__name__, x1.shape, y1.shape, x2.shape, y2.shape))"
   ]
  },
  {
   "cell_type": "code",
   "execution_count": null,
   "metadata": {},
   "outputs": [],
   "source": []
  }
 ],
 "metadata": {
  "kernelspec": {
   "display_name": "Python 3",
   "language": "python",
   "name": "python3"
  },
  "language_info": {
   "codemirror_mode": {
    "name": "ipython",
    "version": 3
   },
   "file_extension": ".py",
   "mimetype": "text/x-python",
   "name": "python",
   "nbconvert_exporter": "python",
   "pygments_lexer": "ipython3",
   "version": "3.7.4"
  }
 },
 "nbformat": 4,
 "nbformat_minor": 2
}
