{
 "cells": [
  {
   "cell_type": "code",
   "execution_count": null,
   "metadata": {},
   "outputs": [],
   "source": [
    "import numpy as np\n",
    "from mgc.ksample import KSample\n",
    "from mgc.independence import Dcorr\n",
    "\n",
    "x = np.ones((10, 10)) - np.identity(10)\n",
    "y = 2 * x\n",
    "z = 3 * x\n",
    "ksamp = KSample(Dcorr, compute_distance=None)\n",
    "stat, pvalue = ksamp.test([x, y, z], reps=10000)\n",
    "print(stat, pvalue)"
   ]
  },
  {
   "cell_type": "code",
   "execution_count": null,
   "metadata": {},
   "outputs": [],
   "source": [
    "from mgc.benchmarks import linear\n",
    "\n",
    "x, y = linear(100, 2, noise=0, low=-2, high=-1)\n",
    "print(x.shape, y.shape)"
   ]
  },
  {
   "cell_type": "code",
   "execution_count": 1,
   "metadata": {},
   "outputs": [
    {
     "ename": "ValueError",
     "evalue": "Buffer dtype mismatch, expected 'float_t' but got 'long'",
     "output_type": "error",
     "traceback": [
      "\u001b[0;31m---------------------------------------------------------------------------\u001b[0m",
      "\u001b[0;31mValueError\u001b[0m                                Traceback (most recent call last)",
      "\u001b[0;32m<ipython-input-1-964b5976f773>\u001b[0m in \u001b[0;36m<module>\u001b[0;34m\u001b[0m\n\u001b[1;32m      7\u001b[0m \u001b[0my\u001b[0m \u001b[0;34m=\u001b[0m \u001b[0mnp\u001b[0m\u001b[0;34m.\u001b[0m\u001b[0marange\u001b[0m\u001b[0;34m(\u001b[0m\u001b[0;36m30\u001b[0m\u001b[0;34m)\u001b[0m\u001b[0;34m.\u001b[0m\u001b[0mreshape\u001b[0m\u001b[0;34m(\u001b[0m\u001b[0;34m-\u001b[0m\u001b[0;36m1\u001b[0m\u001b[0;34m,\u001b[0m \u001b[0;36m1\u001b[0m\u001b[0;34m)\u001b[0m\u001b[0;34m\u001b[0m\u001b[0;34m\u001b[0m\u001b[0m\n\u001b[1;32m      8\u001b[0m \u001b[0;34m\u001b[0m\u001b[0m\n\u001b[0;32m----> 9\u001b[0;31m \u001b[0mpvalue\u001b[0m\u001b[0;34m,\u001b[0m \u001b[0m_\u001b[0m \u001b[0;34m=\u001b[0m \u001b[0mmgc\u001b[0m\u001b[0;34m.\u001b[0m\u001b[0mp_value\u001b[0m\u001b[0;34m(\u001b[0m\u001b[0mx\u001b[0m\u001b[0;34m,\u001b[0m \u001b[0my\u001b[0m\u001b[0;34m)\u001b[0m\u001b[0;34m\u001b[0m\u001b[0;34m\u001b[0m\u001b[0m\n\u001b[0m",
      "\u001b[0;32m~/miniconda3/lib/python3.7/site-packages/mgcpy/independence_tests/mgc.py\u001b[0m in \u001b[0;36mp_value\u001b[0;34m(self, matrix_X, matrix_Y, replication_factor, is_fast, fast_mgc_data)\u001b[0m\n\u001b[1;32m    226\u001b[0m             \u001b[0;32mreturn\u001b[0m \u001b[0mp_value\u001b[0m\u001b[0;34m,\u001b[0m \u001b[0mp_value_metadata\u001b[0m\u001b[0;34m\u001b[0m\u001b[0;34m\u001b[0m\u001b[0m\n\u001b[1;32m    227\u001b[0m         \u001b[0;32melse\u001b[0m\u001b[0;34m:\u001b[0m\u001b[0;34m\u001b[0m\u001b[0;34m\u001b[0m\u001b[0m\n\u001b[0;32m--> 228\u001b[0;31m             \u001b[0;32mreturn\u001b[0m \u001b[0msuper\u001b[0m\u001b[0;34m(\u001b[0m\u001b[0mMGC\u001b[0m\u001b[0;34m,\u001b[0m \u001b[0mself\u001b[0m\u001b[0;34m)\u001b[0m\u001b[0;34m.\u001b[0m\u001b[0mp_value\u001b[0m\u001b[0;34m(\u001b[0m\u001b[0mmatrix_X\u001b[0m\u001b[0;34m,\u001b[0m \u001b[0mmatrix_Y\u001b[0m\u001b[0;34m,\u001b[0m \u001b[0mreplication_factor\u001b[0m\u001b[0;34m=\u001b[0m\u001b[0mreplication_factor\u001b[0m\u001b[0;34m)\u001b[0m\u001b[0;34m\u001b[0m\u001b[0;34m\u001b[0m\u001b[0m\n\u001b[0m\u001b[1;32m    229\u001b[0m \u001b[0;34m\u001b[0m\u001b[0m\n\u001b[1;32m    230\u001b[0m     \u001b[0;32mdef\u001b[0m \u001b[0m_fast_mgc_p_value\u001b[0m\u001b[0;34m(\u001b[0m\u001b[0mself\u001b[0m\u001b[0;34m,\u001b[0m \u001b[0mmatrix_X\u001b[0m\u001b[0;34m,\u001b[0m \u001b[0mmatrix_Y\u001b[0m\u001b[0;34m,\u001b[0m \u001b[0msub_samples\u001b[0m\u001b[0;34m=\u001b[0m\u001b[0;36m10\u001b[0m\u001b[0;34m)\u001b[0m\u001b[0;34m:\u001b[0m\u001b[0;34m\u001b[0m\u001b[0;34m\u001b[0m\u001b[0m\n",
      "\u001b[0;32m~/miniconda3/lib/python3.7/site-packages/mgcpy/independence_tests/abstract_class.py\u001b[0m in \u001b[0;36mp_value\u001b[0;34m(self, matrix_X, matrix_Y, replication_factor)\u001b[0m\n\u001b[1;32m     91\u001b[0m \u001b[0;34m\u001b[0m\u001b[0m\n\u001b[1;32m     92\u001b[0m         \u001b[0;31m# calculte the test statistic with the given data\u001b[0m\u001b[0;34m\u001b[0m\u001b[0;34m\u001b[0m\u001b[0;34m\u001b[0m\u001b[0m\n\u001b[0;32m---> 93\u001b[0;31m         \u001b[0mtest_statistic\u001b[0m\u001b[0;34m,\u001b[0m \u001b[0mindependence_test_metadata\u001b[0m \u001b[0;34m=\u001b[0m \u001b[0mself\u001b[0m\u001b[0;34m.\u001b[0m\u001b[0mtest_statistic\u001b[0m\u001b[0;34m(\u001b[0m\u001b[0mmatrix_X\u001b[0m\u001b[0;34m,\u001b[0m \u001b[0mmatrix_Y\u001b[0m\u001b[0;34m)\u001b[0m\u001b[0;34m\u001b[0m\u001b[0;34m\u001b[0m\u001b[0m\n\u001b[0m\u001b[1;32m     94\u001b[0m \u001b[0;34m\u001b[0m\u001b[0m\n\u001b[1;32m     95\u001b[0m         \u001b[0;31m# if self.get_name() == \"unbiased\":\u001b[0m\u001b[0;34m\u001b[0m\u001b[0;34m\u001b[0m\u001b[0;34m\u001b[0m\u001b[0m\n",
      "\u001b[0;32m~/miniconda3/lib/python3.7/site-packages/mgcpy/independence_tests/mgc.py\u001b[0m in \u001b[0;36mtest_statistic\u001b[0;34m(self, matrix_X, matrix_Y, is_fast, fast_mgc_data)\u001b[0m\n\u001b[1;32m     86\u001b[0m             \u001b[0mdistance_matrix_X\u001b[0m\u001b[0;34m,\u001b[0m \u001b[0mdistance_matrix_Y\u001b[0m \u001b[0;34m=\u001b[0m \u001b[0mcompute_distance\u001b[0m\u001b[0;34m(\u001b[0m\u001b[0mmatrix_X\u001b[0m\u001b[0;34m,\u001b[0m \u001b[0mmatrix_Y\u001b[0m\u001b[0;34m,\u001b[0m \u001b[0mself\u001b[0m\u001b[0;34m.\u001b[0m\u001b[0mcompute_distance_matrix\u001b[0m\u001b[0;34m)\u001b[0m\u001b[0;34m\u001b[0m\u001b[0;34m\u001b[0m\u001b[0m\n\u001b[1;32m     87\u001b[0m             local_correlation_matrix = local_correlations(distance_matrix_X, distance_matrix_Y,\n\u001b[0;32m---> 88\u001b[0;31m                                                           base_global_correlation=self.base_global_correlation)[\"local_correlation_matrix\"]\n\u001b[0m\u001b[1;32m     89\u001b[0m             \u001b[0mm\u001b[0m\u001b[0;34m,\u001b[0m \u001b[0mn\u001b[0m \u001b[0;34m=\u001b[0m \u001b[0mlocal_correlation_matrix\u001b[0m\u001b[0;34m.\u001b[0m\u001b[0mshape\u001b[0m\u001b[0;34m\u001b[0m\u001b[0;34m\u001b[0m\u001b[0m\n\u001b[1;32m     90\u001b[0m             \u001b[0;32mif\u001b[0m \u001b[0mm\u001b[0m \u001b[0;34m==\u001b[0m \u001b[0;36m1\u001b[0m \u001b[0;32mor\u001b[0m \u001b[0mn\u001b[0m \u001b[0;34m==\u001b[0m \u001b[0;36m1\u001b[0m\u001b[0;34m:\u001b[0m\u001b[0;34m\u001b[0m\u001b[0;34m\u001b[0m\u001b[0m\n",
      "\u001b[0;32mmgcpy/independence_tests/mgc_utils/local_correlation.pyx\u001b[0m in \u001b[0;36mmgcpy.independence_tests.mgc_utils.local_correlation.local_correlations\u001b[0;34m()\u001b[0m\n",
      "\u001b[0;31mValueError\u001b[0m: Buffer dtype mismatch, expected 'float_t' but got 'long'"
     ]
    }
   ],
   "source": [
    "from mgcpy.independence_tests.mgc import MGC\n",
    "\n",
    "mgc = MGC()\n",
    "\n",
    "import numpy as np\n",
    "x = np.arange(30).reshape(-1, 1)\n",
    "y = np.arange(30).reshape(-1, 1)\n",
    "\n",
    "pvalue, _ = mgc.p_value(x, y)"
   ]
  },
  {
   "cell_type": "code",
   "execution_count": null,
   "metadata": {},
   "outputs": [],
   "source": []
  }
 ],
 "metadata": {
  "kernelspec": {
   "display_name": "Python 3",
   "language": "python",
   "name": "python3"
  },
  "language_info": {
   "codemirror_mode": {
    "name": "ipython",
    "version": 3
   },
   "file_extension": ".py",
   "mimetype": "text/x-python",
   "name": "python",
   "nbconvert_exporter": "python",
   "pygments_lexer": "ipython3",
   "version": "3.7.4"
  }
 },
 "nbformat": 4,
 "nbformat_minor": 2
}
